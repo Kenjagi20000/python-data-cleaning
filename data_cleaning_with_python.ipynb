{
  "nbformat": 4,
  "nbformat_minor": 0,
  "metadata": {
    "colab": {
      "private_outputs": true,
      "provenance": [],
      "cell_execution_strategy": "setup",
      "authorship_tag": "ABX9TyM/I1nfV26Bbx+FOYe4B+K0",
      "include_colab_link": true
    },
    "kernelspec": {
      "name": "python3",
      "display_name": "Python 3"
    },
    "language_info": {
      "name": "python"
    }
  },
  "cells": [
    {
      "cell_type": "markdown",
      "metadata": {
        "id": "view-in-github",
        "colab_type": "text"
      },
      "source": [
        "<a href=\"https://colab.research.google.com/github/Kenjagi20000/python-data-cleaning/blob/main/data_cleaning_with_python.ipynb\" target=\"_parent\"><img src=\"https://colab.research.google.com/assets/colab-badge.svg\" alt=\"Open In Colab\"/></a>"
      ]
    },
    {
      "cell_type": "markdown",
      "source": [
        "**Data cleaning relates so many issues with data. Some of the common ones is reading the file(csv, json, exel, text files,zipped json files etc.), missing values in the data, changing the data type of a particular column(entries), duplicates of rows and many more. lets us do all that.**"
      ],
      "metadata": {
        "id": "KYT5T2sLkqff"
      }
    },
    {
      "cell_type": "markdown",
      "source": [
        "\n",
        "\n",
        "* Our first task is to read our data namely modified.csv into our work space\n",
        "\n",
        "\n",
        "\n",
        "\n",
        "\n"
      ],
      "metadata": {
        "id": "c07XtMY3maO0"
      }
    },
    {
      "cell_type": "code",
      "source": [
        "import pandas as pd\n",
        "df1 = pd.read_csv(\"/content/unmodified.csv\")\n",
        "df1.shape"
      ],
      "metadata": {
        "id": "5ymlOK-Cnlou"
      },
      "execution_count": null,
      "outputs": []
    },
    {
      "cell_type": "code",
      "source": [
        "df1.info()"
      ],
      "metadata": {
        "id": "QE5tN682nwsI"
      },
      "execution_count": null,
      "outputs": []
    },
    {
      "cell_type": "markdown",
      "source": [
        "As we can see we have `NaN` values  in most of our columns. and we have to do more about it."
      ],
      "metadata": {
        "id": "0V3lsBrHoJCy"
      }
    },
    {
      "cell_type": "code",
      "source": [
        "df1.head()"
      ],
      "metadata": {
        "id": "JmHYnHZtn0Mp"
      },
      "execution_count": null,
      "outputs": []
    },
    {
      "cell_type": "markdown",
      "source": [
        "As we can see above, we have inconsistent columns\n",
        "\n"
      ],
      "metadata": {
        "id": "nKjMEJR4ooUD"
      }
    },
    {
      "cell_type": "code",
      "source": [
        "df1.columns"
      ],
      "metadata": {
        "id": "QGXLMxAEn52g"
      },
      "execution_count": null,
      "outputs": []
    },
    {
      "cell_type": "code",
      "source": [
        "# we want to make the upper case\n",
        "df1.columns = df1.columns.str.upper()"
      ],
      "metadata": {
        "id": "GqAZJ_xzo-5h"
      },
      "execution_count": null,
      "outputs": []
    },
    {
      "cell_type": "code",
      "source": [
        "df1.head()"
      ],
      "metadata": {
        "id": "bV09yGzeqQEN"
      },
      "execution_count": null,
      "outputs": []
    },
    {
      "cell_type": "markdown",
      "source": [
        "Now all our title columns have same or similar case"
      ],
      "metadata": {
        "id": "dxkPOa03qq9X"
      }
    },
    {
      "cell_type": "markdown",
      "source": [
        "Now let us name the duration column with or as time."
      ],
      "metadata": {
        "id": "4IsvZ6-Lqy3b"
      }
    },
    {
      "cell_type": "code",
      "source": [
        "df1[\"TIME\"]= df1[\"DURATION\"]\n",
        "df1.drop(columns = [\"DURATION\"], inplace = True)\n",
        "df1.head()"
      ],
      "metadata": {
        "id": "6iRyfZ4frWfu"
      },
      "execution_count": null,
      "outputs": []
    },
    {
      "cell_type": "code",
      "source": [
        "df1.info()"
      ],
      "metadata": {
        "id": "etwYGzvlsMd0"
      },
      "execution_count": null,
      "outputs": []
    },
    {
      "cell_type": "code",
      "source": [
        "df1.rename(columns = {\"BUDGET\": \"BUDGET_ALLOCATED\"},inplace = True)\n",
        "df1.info()"
      ],
      "metadata": {
        "id": "BMh3dsiwsQxC"
      },
      "execution_count": null,
      "outputs": []
    },
    {
      "cell_type": "code",
      "source": [
        "df1.isnull()"
      ],
      "metadata": {
        "id": "JQLIDqNgtfK-"
      },
      "execution_count": null,
      "outputs": []
    },
    {
      "cell_type": "code",
      "source": [
        "df1.isnull().any()"
      ],
      "metadata": {
        "id": "rx27GIaztoub"
      },
      "execution_count": null,
      "outputs": []
    },
    {
      "cell_type": "code",
      "source": [
        "df1.isnull().sum()"
      ],
      "metadata": {
        "id": "uTcqK5znuHY7"
      },
      "execution_count": null,
      "outputs": []
    },
    {
      "cell_type": "markdown",
      "source": [
        "Let us add a default value to use in place of missing values.Let us fill the `NaN` values with 0"
      ],
      "metadata": {
        "id": "2qfMFYV6uczc"
      }
    },
    {
      "cell_type": "code",
      "source": [
        "df1 = df1.fillna(0)\n",
        "df1.isnull().sum()"
      ],
      "metadata": {
        "id": "tyaZkyROuXu3"
      },
      "execution_count": null,
      "outputs": []
    },
    {
      "cell_type": "markdown",
      "source": [
        "for duration let us fill it with mean(Time of the full movie)\n",
        "\n",
        "\n"
      ],
      "metadata": {
        "id": "e2HMe5k-vDNx"
      }
    },
    {
      "cell_type": "code",
      "source": [
        "df1.head()"
      ],
      "metadata": {
        "id": "a94yPazqvI5i"
      },
      "execution_count": null,
      "outputs": []
    },
    {
      "cell_type": "code",
      "source": [
        "df1[\"TIME\"].head()"
      ],
      "metadata": {
        "id": "IpjF8U-HvWWl"
      },
      "execution_count": null,
      "outputs": []
    },
    {
      "cell_type": "code",
      "source": [
        "# lets find the mean of the time column\n",
        "import numpy as np\n",
        "from scipy import stats\n",
        "#trimmed mean to about outliers\n",
        "trimmed_mean = stats.mstats.trimmed_mean(df1[\"TIME\"])"
      ],
      "metadata": {
        "id": "4SJ525Favsfl"
      },
      "execution_count": null,
      "outputs": []
    },
    {
      "cell_type": "code",
      "source": [
        "trimmed_mean"
      ],
      "metadata": {
        "id": "iCG-Lb3Ow-26"
      },
      "execution_count": null,
      "outputs": []
    },
    {
      "cell_type": "code",
      "source": [
        "# without trimming\n",
        "df1[\"TIME\"].mean()"
      ],
      "metadata": {
        "id": "36DjliC9xA_v"
      },
      "execution_count": null,
      "outputs": []
    },
    {
      "cell_type": "code",
      "source": [
        "# now let us fill `NaN`values with the mean\n",
        "df1[\"TIME\"].replace(0.0, (trimmed_mean),inplace = True)\n",
        "df1.info()"
      ],
      "metadata": {
        "id": "aV-FYbOnxKUX"
      },
      "execution_count": null,
      "outputs": []
    },
    {
      "cell_type": "code",
      "source": [
        "df1[\"TIME\"] = df1[\"TIME\"].round(2)"
      ],
      "metadata": {
        "id": "L5JK1sC-x4nV"
      },
      "execution_count": null,
      "outputs": []
    },
    {
      "cell_type": "code",
      "source": [
        "df1.head()"
      ],
      "metadata": {
        "id": "OglXYmxA0uvs"
      },
      "execution_count": null,
      "outputs": []
    },
    {
      "cell_type": "markdown",
      "source": [
        "Now let us look as the dtype of each column"
      ],
      "metadata": {
        "id": "RLYvG2pH09ar"
      }
    },
    {
      "cell_type": "code",
      "source": [
        "df1.info()"
      ],
      "metadata": {
        "id": "yNJAJDnz1CxL"
      },
      "execution_count": null,
      "outputs": []
    },
    {
      "cell_type": "code",
      "source": [
        "# we might want to change the director fb likes to a float\n",
        "df1[\"DIRECTOR_FACEBOOK_LIKES\"]  = (df1[\"DIRECTOR_FACEBOOK_LIKES\"]\n",
        " .str.replace('\"' , '')\n",
        " .astype(float))"
      ],
      "metadata": {
        "id": "q6TT5F9Z1EqU"
      },
      "execution_count": null,
      "outputs": []
    },
    {
      "cell_type": "code",
      "source": [
        "df1.info()"
      ],
      "metadata": {
        "id": "FLNQgaQd2MFf"
      },
      "execution_count": null,
      "outputs": []
    },
    {
      "cell_type": "markdown",
      "source": [
        "THANK YOU\n",
        "# By Evans Njagi Karago\n",
        "# @kenjagi2000\n",
        "# email: evansnjagi2000@gmail.com"
      ],
      "metadata": {
        "id": "QpqHNRBd3NA0"
      }
    }
  ]
}